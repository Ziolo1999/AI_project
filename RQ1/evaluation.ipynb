{
 "cells": [
  {
   "cell_type": "code",
   "execution_count": 24,
   "metadata": {},
   "outputs": [],
   "source": [
    "import os\n",
    "os.chdir(\"/Users/karol/Desktop/Antwerp/ai_project\")\n",
    "import torch\n",
    "import torch.nn as nn\n",
    "import pandas as pd\n",
    "import numpy as np\n",
    "from recommenders import recommender_softmax, recommender_two_towers, recommender_two_towers_embedded, recommender_two_towers_final, recommender_two_towers_customer\n",
    "from data_reader import load_data, load_data_mf, matrix_representation, load_customers_articles, customers_diversification, articles_diversification\n",
    "import matplotlib.pyplot as plt\n",
    "from sklearn.preprocessing import OneHotEncoder, MinMaxScaler\n",
    "from sklearn.compose import ColumnTransformer\n",
    "from scipy.sparse import csr_matrix\n",
    "from tqdm import tqdm\n",
    "import re\n",
    "import pickle"
   ]
  },
  {
   "cell_type": "code",
   "execution_count": 6,
   "metadata": {},
   "outputs": [],
   "source": [
    "# read customers and transactions data\n",
    "customers = pd.read_csv(\"data/preprocessed/customers.csv\") \n",
    "transactions = pd.read_csv(\"data/preprocessed/transactions.csv\")\n",
    "articles = pd.read_csv(\"data/preprocessed/articles.csv\") "
   ]
  },
  {
   "cell_type": "markdown",
   "metadata": {},
   "source": [
    "# Developed Models"
   ]
  },
  {
   "cell_type": "markdown",
   "metadata": {},
   "source": [
    "### MLP models"
   ]
  },
  {
   "cell_type": "code",
   "execution_count": 3,
   "metadata": {},
   "outputs": [
    {
     "name": "stderr",
     "output_type": "stream",
     "text": [
      "100%|██████████| 138/138 [01:01<00:00,  2.25it/s]\n",
      "100%|██████████| 138/138 [02:08<00:00,  1.07it/s]\n",
      "100%|██████████| 138/138 [01:01<00:00,  2.25it/s]\n",
      "100%|██████████| 138/138 [02:06<00:00,  1.09it/s]\n",
      "100%|██████████| 138/138 [01:05<00:00,  2.11it/s]\n",
      "100%|██████████| 138/138 [02:18<00:00,  1.00s/it]\n",
      " 50%|█████     | 3/6 [09:41<09:46, 195.48s/it]/Users/karol/Desktop/Antwerp/ai_project/AI_project/RQ1/recommenders.py:28: UserWarning: torch.topk support for k>16 by MPS on MacOS 13+, please upgrade (Triggered internally at /Users/runner/work/pytorch/pytorch/pytorch/aten/src/ATen/native/mps/operations/Shape.mm:71.)\n",
      "  _, top_k_indices = torch.topk(results, k=top_k, dim=1)\n",
      "100%|██████████| 138/138 [01:07<00:00,  2.03it/s]\n",
      "100%|██████████| 138/138 [02:15<00:00,  1.02it/s]\n",
      "100%|██████████| 138/138 [01:07<00:00,  2.05it/s]\n",
      "100%|██████████| 138/138 [02:15<00:00,  1.01it/s]\n",
      "100%|██████████| 138/138 [01:07<00:00,  2.04it/s]\n",
      "100%|██████████| 138/138 [02:14<00:00,  1.02it/s]\n",
      "100%|██████████| 6/6 [19:50<00:00, 198.44s/it]\n"
     ]
    }
   ],
   "source": [
    "MLP1 = torch.load(\"AI_project/RQ1/models/MLP1.pt\")\n",
    "MLP2 = torch.load(\"AI_project/RQ1/models/MLP2.pt\")\n",
    "train_dataloader_MLP, val_dataloader_MLP = load_data(transactions, train_test=True, batch_size=1000)\n",
    "\n",
    "last_sold = transactions.groupby(\"article_id\")[\"t_dat\"].max()\n",
    "articles_recently_sold = [last_sold[last_sold > '2020-08-22'].index.tolist()]\n",
    "\n",
    "recall_MLP1_list = []\n",
    "precision_MLP1_list = []\n",
    "\n",
    "recall_MLP2_list = []\n",
    "precision_MLP2_list = []\n",
    "\n",
    "for k in tqdm(np.arange(5,35,5)):\n",
    "    _, recall_MLP1, precisionMLP1 = recommender_softmax(MLP1, val_dataloader_MLP, articles_recently_sold, evaluate=True, top_k=k)\n",
    "    _, recall_MLP2, precisionMLP2 = recommender_softmax(MLP2, val_dataloader_MLP, articles_recently_sold, evaluate=True, top_k=k)\n",
    "    \n",
    "    recall_MLP1_list.append(recall_MLP1.item())\n",
    "    recall_MLP2_list.append(recall_MLP2.item())\n",
    "    precision_MLP1_list.append(precisionMLP1.item())\n",
    "    precision_MLP2_list.append(precisionMLP2.item())"
   ]
  },
  {
   "cell_type": "code",
   "execution_count": 4,
   "metadata": {},
   "outputs": [],
   "source": [
    "with open('AI_project/RQ1/evaluation/recall/recall_MLP1.pkl', 'wb') as f:\n",
    "    pickle.dump(recall_MLP1_list, f)\n",
    "\n",
    "with open('AI_project/RQ1/evaluation/recall/recall_MLP2.pkl', 'wb') as f:\n",
    "    pickle.dump(recall_MLP2_list, f)\n",
    "\n",
    "with open('AI_project/RQ1/evaluation/precision/precision_MLP1.pkl', 'wb') as f:\n",
    "    pickle.dump(precision_MLP1_list, f)\n",
    "\n",
    "with open('AI_project/RQ1/evaluation/precision/precision_MLP2.pkl', 'wb') as f:\n",
    "    pickle.dump(precision_MLP2_list, f)"
   ]
  },
  {
   "cell_type": "markdown",
   "metadata": {},
   "source": [
    "### Basic TwoTower Models"
   ]
  },
  {
   "cell_type": "code",
   "execution_count": 7,
   "metadata": {},
   "outputs": [],
   "source": [
    "# read data\n",
    "transactions = pd.read_csv(\"data/preprocessed/transactions.csv\") \n",
    "articles = pd.read_csv(\"data/preprocessed/articles.csv\") \n",
    "customers = pd.read_csv(\"data/preprocessed/customers.csv\") \n",
    "\n",
    "# one hot encoding \n",
    "articles = articles.set_index(\"article_id\")\n",
    "customers = customers.set_index(\"customer_id\")\n",
    "\n",
    "article_enc = OneHotEncoder(sparse_output=True)\n",
    "articles = article_enc.fit_transform(articles)\n",
    "\n",
    "customers_categorical = [\"FN\",'Active',\"club_member_status\", \"fashion_news_frequency\"]\n",
    "customers_cont = [\"age\"]\n",
    "\n",
    "preprocessor = ColumnTransformer(\n",
    "    transformers=[\n",
    "        ('cat', OneHotEncoder(sparse_output=True), customers_categorical),\n",
    "        ('cont', 'passthrough', customers_cont)  # 'passthrough' means no transformation for continuous variables\n",
    "    ],\n",
    "    remainder='drop'  # Drop any columns not explicitly transformed\n",
    ")\n",
    "customers = csr_matrix(preprocessor.fit_transform(customers))"
   ]
  },
  {
   "cell_type": "code",
   "execution_count": 10,
   "metadata": {},
   "outputs": [
    {
     "name": "stderr",
     "output_type": "stream",
     "text": [
      "  0%|          | 0/6 [00:00<?, ?it/s]"
     ]
    },
    {
     "name": "stdout",
     "output_type": "stream",
     "text": [
      "Generate Customer Embeddings...\n"
     ]
    },
    {
     "name": "stderr",
     "output_type": "stream",
     "text": [
      "100%|██████████| 137/137 [00:04<00:00, 27.50it/s]\n"
     ]
    },
    {
     "name": "stdout",
     "output_type": "stream",
     "text": [
      "Generate Articles Embeddings...\n"
     ]
    },
    {
     "name": "stderr",
     "output_type": "stream",
     "text": [
      "100%|██████████| 106/106 [00:03<00:00, 30.10it/s]\n"
     ]
    },
    {
     "name": "stdout",
     "output_type": "stream",
     "text": [
      "Get recommendations...\n"
     ]
    },
    {
     "name": "stderr",
     "output_type": "stream",
     "text": [
      "100%|██████████| 137/137 [00:31<00:00,  4.31it/s]\n",
      " 17%|█▋        | 1/6 [04:36<23:00, 276.11s/it]"
     ]
    },
    {
     "name": "stdout",
     "output_type": "stream",
     "text": [
      "Generate Customer Embeddings...\n"
     ]
    },
    {
     "name": "stderr",
     "output_type": "stream",
     "text": [
      "100%|██████████| 137/137 [00:04<00:00, 31.04it/s]\n"
     ]
    },
    {
     "name": "stdout",
     "output_type": "stream",
     "text": [
      "Generate Articles Embeddings...\n"
     ]
    },
    {
     "name": "stderr",
     "output_type": "stream",
     "text": [
      "100%|██████████| 106/106 [00:03<00:00, 29.16it/s]\n"
     ]
    },
    {
     "name": "stdout",
     "output_type": "stream",
     "text": [
      "Get recommendations...\n"
     ]
    },
    {
     "name": "stderr",
     "output_type": "stream",
     "text": [
      "100%|██████████| 137/137 [00:31<00:00,  4.38it/s]\n",
      " 33%|███▎      | 2/6 [09:18<18:40, 280.04s/it]"
     ]
    },
    {
     "name": "stdout",
     "output_type": "stream",
     "text": [
      "Generate Customer Embeddings...\n"
     ]
    },
    {
     "name": "stderr",
     "output_type": "stream",
     "text": [
      "100%|██████████| 137/137 [00:04<00:00, 28.25it/s]\n"
     ]
    },
    {
     "name": "stdout",
     "output_type": "stream",
     "text": [
      "Generate Articles Embeddings...\n"
     ]
    },
    {
     "name": "stderr",
     "output_type": "stream",
     "text": [
      "100%|██████████| 106/106 [00:03<00:00, 29.31it/s]\n"
     ]
    },
    {
     "name": "stdout",
     "output_type": "stream",
     "text": [
      "Get recommendations...\n"
     ]
    },
    {
     "name": "stderr",
     "output_type": "stream",
     "text": [
      "100%|██████████| 137/137 [00:32<00:00,  4.18it/s]\n",
      " 50%|█████     | 3/6 [14:06<14:10, 283.49s/it]"
     ]
    },
    {
     "name": "stdout",
     "output_type": "stream",
     "text": [
      "Generate Customer Embeddings...\n"
     ]
    },
    {
     "name": "stderr",
     "output_type": "stream",
     "text": [
      "100%|██████████| 137/137 [00:04<00:00, 30.58it/s]\n"
     ]
    },
    {
     "name": "stdout",
     "output_type": "stream",
     "text": [
      "Generate Articles Embeddings...\n"
     ]
    },
    {
     "name": "stderr",
     "output_type": "stream",
     "text": [
      "100%|██████████| 106/106 [00:03<00:00, 28.71it/s]\n"
     ]
    },
    {
     "name": "stdout",
     "output_type": "stream",
     "text": [
      "Get recommendations...\n"
     ]
    },
    {
     "name": "stderr",
     "output_type": "stream",
     "text": [
      "100%|██████████| 137/137 [00:34<00:00,  3.93it/s]\n",
      " 67%|██████▋   | 4/6 [18:59<09:34, 287.08s/it]"
     ]
    },
    {
     "name": "stdout",
     "output_type": "stream",
     "text": [
      "Generate Customer Embeddings...\n"
     ]
    },
    {
     "name": "stderr",
     "output_type": "stream",
     "text": [
      "100%|██████████| 137/137 [00:04<00:00, 29.48it/s]\n"
     ]
    },
    {
     "name": "stdout",
     "output_type": "stream",
     "text": [
      "Generate Articles Embeddings...\n"
     ]
    },
    {
     "name": "stderr",
     "output_type": "stream",
     "text": [
      "100%|██████████| 106/106 [00:03<00:00, 29.13it/s]\n"
     ]
    },
    {
     "name": "stdout",
     "output_type": "stream",
     "text": [
      "Get recommendations...\n"
     ]
    },
    {
     "name": "stderr",
     "output_type": "stream",
     "text": [
      "100%|██████████| 137/137 [00:33<00:00,  4.14it/s]\n",
      " 83%|████████▎ | 5/6 [23:49<04:48, 288.46s/it]"
     ]
    },
    {
     "name": "stdout",
     "output_type": "stream",
     "text": [
      "Generate Customer Embeddings...\n"
     ]
    },
    {
     "name": "stderr",
     "output_type": "stream",
     "text": [
      "100%|██████████| 137/137 [00:04<00:00, 30.02it/s]\n"
     ]
    },
    {
     "name": "stdout",
     "output_type": "stream",
     "text": [
      "Generate Articles Embeddings...\n"
     ]
    },
    {
     "name": "stderr",
     "output_type": "stream",
     "text": [
      "100%|██████████| 106/106 [00:03<00:00, 29.21it/s]\n"
     ]
    },
    {
     "name": "stdout",
     "output_type": "stream",
     "text": [
      "Get recommendations...\n"
     ]
    },
    {
     "name": "stderr",
     "output_type": "stream",
     "text": [
      "100%|██████████| 137/137 [00:35<00:00,  3.90it/s]\n",
      "100%|██████████| 6/6 [28:43<00:00, 287.18s/it]\n"
     ]
    }
   ],
   "source": [
    "TwoTowerBasic = torch.load(\"AI_project/RQ1/models/TwoTower1.pt\")\n",
    "TwoTowerDeep = torch.load(\"AI_project/RQ1/models/TwoTowerFinal.pt\")\n",
    "transactions_negatives = pd.read_csv(\"data/preprocessed/transactions_negatives.csv\")\n",
    "\n",
    "_, _, test_customers = load_data_mf(transactions_negatives, batch_size=1000)\n",
    "inputs, targets = matrix_representation(transactions, train_test=True)\n",
    "targets = targets[test_customers]\n",
    "targets[targets>1] = 1\n",
    "dataloader_cust, dataloader_art = load_customers_articles(customers, articles, test_customers=test_customers, batch_size=1000)\n",
    "\n",
    "last_sold = transactions.groupby(\"article_id\")[\"t_dat\"].max()\n",
    "articles_recently_sold = [last_sold[last_sold > '2020-08-22'].index.tolist()]\n",
    "\n",
    "recall_Basic_list = []\n",
    "precision_Basic_list = []\n",
    "recall_Deep_list = []\n",
    "precision_Deep_list = []\n",
    "\n",
    "for k in tqdm(np.arange(5,35,5)):\n",
    "    _, recall_Basic, precision_Basic = recommender_two_towers(TwoTowerBasic, dataloader_cust, dataloader_art, targets, articles_recently_sold, evaluate=True, top_k=k)\n",
    "    _, recall_Deep, precision_Deep =  recommender_two_towers_final(TwoTowerDeep, dataloader_cust, dataloader_art, targets, articles_recently_sold, evaluate=True, top_k=k)\n",
    "    \n",
    "    recall_Basic_list.append(recall_Basic)\n",
    "    recall_Deep_list.append(recall_Deep)\n",
    "    precision_Basic_list.append(precision_Basic)\n",
    "    precision_Deep_list.append(precision_Deep)"
   ]
  },
  {
   "cell_type": "code",
   "execution_count": 11,
   "metadata": {},
   "outputs": [],
   "source": [
    "with open('AI_project/RQ1/evaluation/recall/recall_target_Basic.pkl', 'wb') as f:\n",
    "    pickle.dump(recall_Basic_list, f)\n",
    "\n",
    "with open('AI_project/RQ1/evaluation/recall/recall_target_Deep.pkl', 'wb') as f:\n",
    "    pickle.dump(recall_Deep_list, f)\n",
    "\n",
    "with open('AI_project/RQ1/evaluation/precision/precision_target_Basic.pkl', 'wb') as f:\n",
    "    pickle.dump(precision_Basic_list, f)\n",
    "\n",
    "with open('AI_project/RQ1/evaluation/precision/precision_target_Deep.pkl', 'wb') as f:\n",
    "    pickle.dump(precision_Deep_list, f)"
   ]
  },
  {
   "cell_type": "markdown",
   "metadata": {},
   "source": [
    "### Embedding layers"
   ]
  },
  {
   "cell_type": "code",
   "execution_count": 13,
   "metadata": {},
   "outputs": [],
   "source": [
    "# read article and customer data\n",
    "articles = pd.read_csv(\"data/preprocessed/articles.csv\") \n",
    "customers = pd.read_csv(\"data/preprocessed/customers.csv\") \n",
    "\n",
    "# set indices\n",
    "articles = articles.set_index(\"article_id\")\n",
    "customers = customers.set_index(\"customer_id\")\n",
    "\n",
    "customers_categorical = [\"FN\",'Active',\"club_member_status\", \"fashion_news_frequency\"]\n",
    "customers_cont = [\"age\"]\n",
    "\n",
    "preprocessor = ColumnTransformer(\n",
    "    transformers=[\n",
    "        ('cat', OneHotEncoder(sparse_output=True), customers_categorical),\n",
    "        ('cont', 'passthrough', customers_cont)  # 'passthrough' means no transformation for continuous variables\n",
    "    ],\n",
    "    remainder='drop'  # Drop any columns not explicitly transformed\n",
    ")\n",
    "customers = csr_matrix(preprocessor.fit_transform(customers))\n",
    "articles = csr_matrix(articles)\n",
    "\n",
    "# load transaction\n",
    "transactions_negatives = pd.read_csv(\"data/preprocessed/transactions_negatives.csv\")\n",
    "# dataloader\n",
    "train_dataloader, val_dataloader, test_customers = load_data_mf(transactions_negatives, batch_size=1000)"
   ]
  },
  {
   "cell_type": "code",
   "execution_count": 14,
   "metadata": {},
   "outputs": [
    {
     "name": "stderr",
     "output_type": "stream",
     "text": [
      "  0%|          | 0/6 [00:00<?, ?it/s]"
     ]
    },
    {
     "name": "stdout",
     "output_type": "stream",
     "text": [
      "Generate Customer Embeddings...\n"
     ]
    },
    {
     "name": "stderr",
     "output_type": "stream",
     "text": [
      "100%|██████████| 1363/1363 [00:04<00:00, 305.81it/s]\n"
     ]
    },
    {
     "name": "stdout",
     "output_type": "stream",
     "text": [
      "Generate Articles Embeddings...\n"
     ]
    },
    {
     "name": "stderr",
     "output_type": "stream",
     "text": [
      "/Users/karol/Desktop/Antwerp/ai_project/AI_project/RQ1/model.py:81: UserWarning: The use of `x.T` on tensors of dimension other than 2 to reverse their shape is deprecated and it will throw an error in a future release. Consider `x.mT` to transpose batches of matrices or `x.permute(*torch.arange(x.ndim - 1, -1, -1))` to reverse the dimensions of a tensor. (Triggered internally at /Users/runner/work/pytorch/pytorch/pytorch/aten/src/ATen/native/TensorShape.cpp:3618.)\n",
      "  embedding_layer(x[:,i].T)\n",
      "100%|██████████| 1056/1056 [00:03<00:00, 293.09it/s]\n"
     ]
    },
    {
     "name": "stdout",
     "output_type": "stream",
     "text": [
      "Get recommendations...\n"
     ]
    },
    {
     "name": "stderr",
     "output_type": "stream",
     "text": [
      "100%|██████████| 137/137 [00:33<00:00,  4.14it/s]\n",
      " 17%|█▋        | 1/6 [02:16<11:20, 136.03s/it]"
     ]
    },
    {
     "name": "stdout",
     "output_type": "stream",
     "text": [
      "Generate Customer Embeddings...\n"
     ]
    },
    {
     "name": "stderr",
     "output_type": "stream",
     "text": [
      "100%|██████████| 1363/1363 [00:04<00:00, 289.22it/s]\n"
     ]
    },
    {
     "name": "stdout",
     "output_type": "stream",
     "text": [
      "Generate Articles Embeddings...\n"
     ]
    },
    {
     "name": "stderr",
     "output_type": "stream",
     "text": [
      "100%|██████████| 1056/1056 [00:03<00:00, 292.86it/s]\n"
     ]
    },
    {
     "name": "stdout",
     "output_type": "stream",
     "text": [
      "Get recommendations...\n"
     ]
    },
    {
     "name": "stderr",
     "output_type": "stream",
     "text": [
      "100%|██████████| 137/137 [00:32<00:00,  4.26it/s]\n",
      " 33%|███▎      | 2/6 [04:33<09:07, 136.88s/it]"
     ]
    },
    {
     "name": "stdout",
     "output_type": "stream",
     "text": [
      "Generate Customer Embeddings...\n"
     ]
    },
    {
     "name": "stderr",
     "output_type": "stream",
     "text": [
      "100%|██████████| 1363/1363 [00:04<00:00, 302.18it/s]\n"
     ]
    },
    {
     "name": "stdout",
     "output_type": "stream",
     "text": [
      "Generate Articles Embeddings...\n"
     ]
    },
    {
     "name": "stderr",
     "output_type": "stream",
     "text": [
      "100%|██████████| 1056/1056 [00:03<00:00, 297.94it/s]\n"
     ]
    },
    {
     "name": "stdout",
     "output_type": "stream",
     "text": [
      "Get recommendations...\n"
     ]
    },
    {
     "name": "stderr",
     "output_type": "stream",
     "text": [
      "100%|██████████| 137/137 [00:31<00:00,  4.41it/s]\n",
      " 50%|█████     | 3/6 [06:52<06:52, 137.63s/it]"
     ]
    },
    {
     "name": "stdout",
     "output_type": "stream",
     "text": [
      "Generate Customer Embeddings...\n"
     ]
    },
    {
     "name": "stderr",
     "output_type": "stream",
     "text": [
      "100%|██████████| 1363/1363 [00:04<00:00, 300.89it/s]\n"
     ]
    },
    {
     "name": "stdout",
     "output_type": "stream",
     "text": [
      "Generate Articles Embeddings...\n"
     ]
    },
    {
     "name": "stderr",
     "output_type": "stream",
     "text": [
      "100%|██████████| 1056/1056 [00:03<00:00, 275.13it/s]\n"
     ]
    },
    {
     "name": "stdout",
     "output_type": "stream",
     "text": [
      "Get recommendations...\n"
     ]
    },
    {
     "name": "stderr",
     "output_type": "stream",
     "text": [
      "100%|██████████| 137/137 [00:32<00:00,  4.22it/s]\n",
      " 67%|██████▋   | 4/6 [09:14<04:39, 139.71s/it]"
     ]
    },
    {
     "name": "stdout",
     "output_type": "stream",
     "text": [
      "Generate Customer Embeddings...\n"
     ]
    },
    {
     "name": "stderr",
     "output_type": "stream",
     "text": [
      "100%|██████████| 1363/1363 [00:04<00:00, 291.44it/s]\n"
     ]
    },
    {
     "name": "stdout",
     "output_type": "stream",
     "text": [
      "Generate Articles Embeddings...\n"
     ]
    },
    {
     "name": "stderr",
     "output_type": "stream",
     "text": [
      "100%|██████████| 1056/1056 [00:03<00:00, 291.90it/s]\n"
     ]
    },
    {
     "name": "stdout",
     "output_type": "stream",
     "text": [
      "Get recommendations...\n"
     ]
    },
    {
     "name": "stderr",
     "output_type": "stream",
     "text": [
      "100%|██████████| 137/137 [00:32<00:00,  4.17it/s]\n",
      " 83%|████████▎ | 5/6 [11:41<02:22, 142.34s/it]"
     ]
    },
    {
     "name": "stdout",
     "output_type": "stream",
     "text": [
      "Generate Customer Embeddings...\n"
     ]
    },
    {
     "name": "stderr",
     "output_type": "stream",
     "text": [
      "100%|██████████| 1363/1363 [00:04<00:00, 295.64it/s]\n"
     ]
    },
    {
     "name": "stdout",
     "output_type": "stream",
     "text": [
      "Generate Articles Embeddings...\n"
     ]
    },
    {
     "name": "stderr",
     "output_type": "stream",
     "text": [
      "100%|██████████| 1056/1056 [00:03<00:00, 288.73it/s]\n"
     ]
    },
    {
     "name": "stdout",
     "output_type": "stream",
     "text": [
      "Get recommendations...\n"
     ]
    },
    {
     "name": "stderr",
     "output_type": "stream",
     "text": [
      "100%|██████████| 137/137 [00:32<00:00,  4.21it/s]\n",
      "100%|██████████| 6/6 [14:11<00:00, 141.97s/it]\n"
     ]
    }
   ],
   "source": [
    "TwoTowerEmbeddings = torch.load(\"AI_project/RQ1/models/TwoTowerEmbedded.pt\")\n",
    "_, _, test_customers = load_data_mf(transactions_negatives, batch_size=1000)\n",
    "inputs, targets = matrix_representation(transactions, train_test=True)\n",
    "targets = targets[test_customers]\n",
    "targets[targets>1] = 1\n",
    "dataloader_cust, dataloader_art = load_customers_articles(customers, articles, test_customers=test_customers, batch_size=100)\n",
    "\n",
    "last_sold = transactions.groupby(\"article_id\")[\"t_dat\"].max()\n",
    "articles_recently_sold = [last_sold[last_sold > '2020-08-22'].index.tolist()]\n",
    "\n",
    "recall_Embeddings_list = []\n",
    "precision_Embeddings_list = []\n",
    "\n",
    "\n",
    "for k in tqdm(np.arange(5,35,5)):\n",
    "    _, recall_Embeddings, precision_Embeddings =  recommender_two_towers_embedded(TwoTowerEmbeddings, dataloader_cust, dataloader_art, targets, articles_recently_sold, evaluate=True, top_k=k)\n",
    "    recall_Embeddings_list.append(recall_Embeddings)\n",
    "    precision_Embeddings_list.append(precision_Embeddings)"
   ]
  },
  {
   "cell_type": "code",
   "execution_count": 15,
   "metadata": {},
   "outputs": [],
   "source": [
    "with open('AI_project/RQ1/evaluation/recall/recall_target_Embeddings.pkl', 'wb') as f:\n",
    "    pickle.dump(recall_Embeddings_list, f)\n",
    "\n",
    "with open('AI_project/RQ1/evaluation/precision/precision_target_Embeddings.pkl', 'wb') as f:\n",
    "    pickle.dump(precision_Embeddings_list, f)"
   ]
  },
  {
   "cell_type": "markdown",
   "metadata": {},
   "source": [
    "### Customer diversification"
   ]
  },
  {
   "cell_type": "code",
   "execution_count": 16,
   "metadata": {},
   "outputs": [],
   "source": [
    "# read customers and transactions data\n",
    "customers = pd.read_csv(\"data/preprocessed/customers.csv\") \n",
    "transactions = pd.read_csv(\"data/preprocessed/transactions.csv\")\n",
    "articles = pd.read_csv(\"data/preprocessed/articles.csv\") \n",
    "customers = customers_diversification(customers, transactions, articles)\n"
   ]
  },
  {
   "cell_type": "code",
   "execution_count": 17,
   "metadata": {},
   "outputs": [],
   "source": [
    "# one hot encoding \n",
    "articles = articles.set_index(\"article_id\")\n",
    "customers = customers.set_index(\"customer_id\")\n",
    "\n",
    "article_enc = OneHotEncoder(sparse_output=True)\n",
    "articles = article_enc.fit_transform(articles)\n",
    "\n",
    "customers_categorical = [\"FN\",'Active',\"club_member_status\", \"fashion_news_frequency\", \"favourite_color\", \"preferred_garment\"]\n",
    "customers_cont = [\"age\",\"first_channel\", \"second_channel\", \"avg_price\", \"amount_purchases\",\"manswear\",\"ladieswear\", \"kids\"]\n",
    "\n",
    "preprocessor = ColumnTransformer(\n",
    "    transformers=[\n",
    "        ('cat', OneHotEncoder(sparse_output=True), customers_categorical),\n",
    "        ('cont', 'passthrough', customers_cont)  # 'passthrough' means no transformation for continuous variables\n",
    "    ],\n",
    "    remainder='drop'  # Drop any columns not explicitly transformed\n",
    ")\n",
    "customers = csr_matrix(preprocessor.fit_transform(customers))\n",
    "# load transaction\n",
    "transactions_negatives = pd.read_csv(\"data/preprocessed/transactions_negatives.csv\")\n",
    "# dataloader\n",
    "train_dataloader, val_dataloader, test_customers = load_data_mf(transactions_negatives, batch_size=1000)"
   ]
  },
  {
   "cell_type": "code",
   "execution_count": 18,
   "metadata": {},
   "outputs": [],
   "source": [
    "TwoTowerCustomer = torch.load(\"AI_project/RQ1/models/TwoTowerCustomer.pt\")\n",
    "_, _, test_customers = load_data_mf(transactions_negatives, batch_size=1000)\n",
    "inputs, targets = matrix_representation(transactions, train_test=True)\n",
    "targets = targets[test_customers]\n",
    "targets[targets>1] = 1\n",
    "# dataloader\n",
    "dataloader_cust, dataloader_art = load_customers_articles(customers, articles, test_customers=test_customers, batch_size=100)\n",
    "# get restrictions\n",
    "last_sold = transactions.groupby(\"article_id\")[\"t_dat\"].max()\n",
    "articles_recently_sold = [last_sold[last_sold > '2020-08-22'].index.tolist()]\n",
    "\n",
    "recall_Cust_list = []\n",
    "precision_Cust_list = []\n",
    "\n",
    "for k in np.arange(5,35,5):\n",
    "    _, recall_customer, precision_customer = recommender_two_towers_customer(TwoTowerCustomer, dataloader_cust, dataloader_art, targets, articles_recently_sold, evaluate=True, top_k=k)\n",
    "    recall_Cust_list.append(recall_customer)\n",
    "    precision_Cust_list.append(precision_customer)\n"
   ]
  },
  {
   "cell_type": "code",
   "execution_count": 19,
   "metadata": {},
   "outputs": [],
   "source": [
    "with open('AI_project/RQ1/evaluation/recall/recall_target_Cust.pkl', 'wb') as f:\n",
    "    pickle.dump(recall_Cust_list, f)\n",
    "\n",
    "with open('AI_project/RQ1/evaluation/precision/precision_target_Cust.pkl', 'wb') as f:\n",
    "    pickle.dump(precision_Cust_list, f)"
   ]
  },
  {
   "cell_type": "markdown",
   "metadata": {},
   "source": [
    "### Article diversification"
   ]
  },
  {
   "cell_type": "code",
   "execution_count": 20,
   "metadata": {},
   "outputs": [
    {
     "name": "stdout",
     "output_type": "stream",
     "text": [
      "AGE GROUP DISTRIBUTION\n",
      "\n",
      "age_group\n",
      "adult_preferences         492701\n",
      "young_preference          357169\n",
      "middle_aged_preference    339444\n",
      "senior_preference         182666\n",
      "Name: count, dtype: int64\n"
     ]
    },
    {
     "name": "stderr",
     "output_type": "stream",
     "text": [
      "/Users/karol/Desktop/Antwerp/ai_project/AI_project/RQ1/data_reader.py:609: FutureWarning: The default of observed=False is deprecated and will be changed to True in a future version of pandas. Pass observed=False to retain current behavior or observed=True to adopt the future default and silence this warning.\n",
      "  grouped = t.groupby([\"article_id\", \"age_group\"])[\"customer_id\"].count()\n"
     ]
    }
   ],
   "source": [
    "# read customers and transactions data\n",
    "customers = pd.read_csv(\"data/preprocessed/customers.csv\") \n",
    "transactions = pd.read_csv(\"data/preprocessed/transactions.csv\")\n",
    "articles = pd.read_csv(\"data/preprocessed/articles.csv\") \n",
    "articles = articles_diversification(articles, transactions, customers)"
   ]
  },
  {
   "cell_type": "code",
   "execution_count": 21,
   "metadata": {},
   "outputs": [],
   "source": [
    "# one hot encoding \n",
    "articles = articles.set_index(\"article_id\")\n",
    "customers = customers.set_index(\"customer_id\")\n",
    "\n",
    "articles_categorical = [\"product_type_name\",\"graphical_appearance_name\",\n",
    "                        \"perceived_colour_master_name\",\"department_name\",\n",
    "                        \"index_name\",\"section_name\",\"garment_group_name\"]\n",
    "\n",
    "articles_cont = ['winter_sale', 'spring_sale','summer_sale', 'autumn_sale',\n",
    "                'avg_price','young_preference', 'adult_preferences', \n",
    "                'middle_aged_preference','senior_preference', \n",
    "                'sales_channel_2', 'sales_channel_1']\n",
    "\n",
    "min_max_cols = ['rank_3_2020', 'rank_4_2020']\n",
    "\n",
    "\n",
    "preprocessor = ColumnTransformer(\n",
    "    transformers=[\n",
    "        ('cat', OneHotEncoder(sparse_output=True), articles_categorical),\n",
    "        ('cont', 'passthrough', articles_cont),\n",
    "        (\"min_max\", MinMaxScaler(), min_max_cols)  # 'passthrough' means no transformation for continuous variables\n",
    "    ],\n",
    "    remainder='drop'  # Drop any columns not explicitly transformed\n",
    ")\n",
    "\n",
    "articles = csr_matrix(preprocessor.fit_transform(articles))\n",
    "\n",
    "customers_categorical = [\"FN\",'Active',\"club_member_status\", \"fashion_news_frequency\"]\n",
    "customers_cont = [\"age\"]\n",
    "\n",
    "preprocessor = ColumnTransformer(\n",
    "    transformers=[\n",
    "        ('cat', OneHotEncoder(sparse_output=True), customers_categorical),\n",
    "        ('cont', 'passthrough', customers_cont)  # 'passthrough' means no transformation for continuous variables\n",
    "    ],\n",
    "    remainder='drop'  # Drop any columns not explicitly transformed\n",
    ")\n",
    "customers = csr_matrix(preprocessor.fit_transform(customers))\n",
    "# load transaction\n",
    "transactions_negatives = pd.read_csv(\"data/preprocessed/transactions_negatives.csv\")\n",
    "# dataloader\n",
    "train_dataloader, val_dataloader, test_customers = load_data_mf(transactions_negatives, batch_size=1000)"
   ]
  },
  {
   "cell_type": "code",
   "execution_count": 22,
   "metadata": {},
   "outputs": [],
   "source": [
    "TwoTower = torch.load(\"AI_project/RQ1/models/TwoTowerArticles.pt\")\n",
    "_, _, test_customers = load_data_mf(transactions_negatives, batch_size=1000)\n",
    "inputs, targets = matrix_representation(transactions, train_test=True)\n",
    "targets = targets[test_customers]\n",
    "targets[targets>1] = 1\n",
    "# dataloader\n",
    "dataloader_cust, dataloader_art = load_customers_articles(customers, articles, test_customers=test_customers, batch_size=100)\n",
    "# get restrictions\n",
    "last_sold = transactions.groupby(\"article_id\")[\"t_dat\"].max()\n",
    "articles_recently_sold = [last_sold[last_sold > '2020-08-22'].index.tolist()]\n",
    "\n",
    "recall_Art_list = []\n",
    "precision_Art_list = []\n",
    "\n",
    "for k in np.arange(5,35,5):\n",
    "    _, recall_art, precision_art = recommender_two_towers_final(TwoTower, dataloader_cust, dataloader_art, targets, articles_recently_sold, evaluate=True, top_k=k)\n",
    "    recall_Art_list.append(recall_art)\n",
    "    precision_Art_list.append(precision_art)\n"
   ]
  },
  {
   "cell_type": "code",
   "execution_count": 23,
   "metadata": {},
   "outputs": [],
   "source": [
    "with open('AI_project/RQ1/evaluation/recall/recall_target_Art.pkl', 'wb') as f:\n",
    "    pickle.dump(recall_Art_list, f)\n",
    "\n",
    "with open('AI_project/RQ1/evaluation/precision/precision_target_Art.pkl', 'wb') as f:\n",
    "    pickle.dump(precision_Art_list, f)"
   ]
  },
  {
   "cell_type": "markdown",
   "metadata": {},
   "source": [
    "### Plots"
   ]
  },
  {
   "cell_type": "code",
   "execution_count": 28,
   "metadata": {},
   "outputs": [
    {
     "data": {
      "image/png": "[encoded data removed]",
      "text/plain": [
       "<Figure size 640x480 with 1 Axes>"
      ]
     },
     "metadata": {},
     "output_type": "display_data"
    }
   ],
   "source": [
    "# Directory containing the pickle files\n",
    "folder_path = 'AI_project/RQ1/evaluation/recall'\n",
    "\n",
    "# Initialize an empty list to store loaded lists\n",
    "all_lists = []\n",
    "\n",
    "# Iterate through the files in the folder\n",
    "for filename in os.listdir(folder_path):\n",
    "    file_path = os.path.join(folder_path, filename)\n",
    "    pattern = r'.*target.*\\bpkl\\b'\n",
    "    if re.search(pattern, filename):\n",
    "        # Load the list from the pickle file and append it to all_lists\n",
    "        with open(file_path, 'rb') as f:\n",
    "            loaded_list = pickle.load(f)\n",
    "            all_lists.append(loaded_list)\n",
    "            plt.plot(np.arange(5,35,5),loaded_list, label=filename)\n",
    "plt.title(\"Recall\")\n",
    "plt.legend()\n",
    "plt.xlabel(\"k\")\n",
    "plt.ylabel(\"recall\")\n",
    "plt.show()"
   ]
  },
  {
   "cell_type": "code",
   "execution_count": 27,
   "metadata": {},
   "outputs": [
    {
     "data": {
      "image/png": "[encoded data removed]",
      "text/plain": [
       "<Figure size 640x480 with 1 Axes>"
      ]
     },
     "metadata": {},
     "output_type": "display_data"
    }
   ],
   "source": [
    "# Directory containing the pickle files\n",
    "folder_path = 'AI_project/RQ1/evaluation/precision'\n",
    "\n",
    "# Initialize an empty list to store loaded lists\n",
    "all_lists = []\n",
    "\n",
    "# Iterate through the files in the folder\n",
    "for filename in os.listdir(folder_path):\n",
    "    file_path = os.path.join(folder_path, filename)\n",
    "    pattern = r'.*target.*\\bpkl\\b'\n",
    "    if re.search(pattern, filename):\n",
    "        # Load the list from the pickle file and append it to all_lists\n",
    "        with open(file_path, 'rb') as f:\n",
    "            loaded_list = pickle.load(f)\n",
    "            all_lists.append(loaded_list)\n",
    "            plt.plot(np.arange(5,35,5),loaded_list, label=filename)\n",
    "plt.title(\"Precision\")\n",
    "plt.legend()\n",
    "plt.xlabel(\"k\")\n",
    "plt.ylabel(\"recall\")\n",
    "plt.show()"
   ]
  },
  {
   "cell_type": "markdown",
   "metadata": {},
   "source": [
    "# Different targets for TwoTower models"
   ]
  },
  {
   "cell_type": "markdown",
   "metadata": {},
   "source": [
    "## Basic TwoTowers"
   ]
  },
  {
   "cell_type": "code",
   "execution_count": 3,
   "metadata": {},
   "outputs": [],
   "source": [
    "# read data\n",
    "transactions = pd.read_csv(\"data/preprocessed/transactions.csv\") \n",
    "articles = pd.read_csv(\"data/preprocessed/articles.csv\") \n",
    "customers = pd.read_csv(\"data/preprocessed/customers.csv\") \n",
    "\n",
    "# one hot encoding \n",
    "articles = articles.set_index(\"article_id\")\n",
    "customers = customers.set_index(\"customer_id\")\n",
    "\n",
    "article_enc = OneHotEncoder(sparse_output=True)\n",
    "articles = article_enc.fit_transform(articles)\n",
    "\n",
    "customers_categorical = [\"FN\",'Active',\"club_member_status\", \"fashion_news_frequency\"]\n",
    "customers_cont = [\"age\"]\n",
    "\n",
    "preprocessor = ColumnTransformer(\n",
    "    transformers=[\n",
    "        ('cat', OneHotEncoder(sparse_output=True), customers_categorical),\n",
    "        ('cont', 'passthrough', customers_cont)  # 'passthrough' means no transformation for continuous variables\n",
    "    ],\n",
    "    remainder='drop'  # Drop any columns not explicitly transformed\n",
    ")\n",
    "customers = csr_matrix(preprocessor.fit_transform(customers))"
   ]
  },
  {
   "cell_type": "code",
   "execution_count": 4,
   "metadata": {},
   "outputs": [
    {
     "name": "stderr",
     "output_type": "stream",
     "text": [
      "  0%|          | 0/6 [00:00<?, ?it/s]"
     ]
    },
    {
     "name": "stdout",
     "output_type": "stream",
     "text": [
      "Generate Customer Embeddings...\n"
     ]
    },
    {
     "name": "stderr",
     "output_type": "stream",
     "text": [
      "100%|██████████| 1363/1363 [00:09<00:00, 146.13it/s]\n"
     ]
    },
    {
     "name": "stdout",
     "output_type": "stream",
     "text": [
      "Generate Articles Embeddings...\n"
     ]
    },
    {
     "name": "stderr",
     "output_type": "stream",
     "text": [
      "100%|██████████| 1056/1056 [00:04<00:00, 244.99it/s]\n"
     ]
    },
    {
     "name": "stdout",
     "output_type": "stream",
     "text": [
      "Get recommendations...\n"
     ]
    },
    {
     "name": "stderr",
     "output_type": "stream",
     "text": [
      "100%|██████████| 137/137 [00:32<00:00,  4.20it/s]\n"
     ]
    },
    {
     "name": "stdout",
     "output_type": "stream",
     "text": [
      "Generate Customer Embeddings...\n"
     ]
    },
    {
     "name": "stderr",
     "output_type": "stream",
     "text": [
      "100%|██████████| 1363/1363 [00:15<00:00, 90.83it/s]\n"
     ]
    },
    {
     "name": "stdout",
     "output_type": "stream",
     "text": [
      "Generate Articles Embeddings...\n"
     ]
    },
    {
     "name": "stderr",
     "output_type": "stream",
     "text": [
      "100%|██████████| 1056/1056 [00:04<00:00, 230.78it/s]\n"
     ]
    },
    {
     "name": "stdout",
     "output_type": "stream",
     "text": [
      "Get recommendations...\n"
     ]
    },
    {
     "name": "stderr",
     "output_type": "stream",
     "text": [
      "100%|██████████| 137/137 [00:34<00:00,  4.00it/s]\n",
      " 17%|█▋        | 1/6 [04:53<24:25, 293.05s/it]"
     ]
    },
    {
     "name": "stdout",
     "output_type": "stream",
     "text": [
      "Generate Customer Embeddings...\n"
     ]
    },
    {
     "name": "stderr",
     "output_type": "stream",
     "text": [
      "100%|██████████| 1363/1363 [00:05<00:00, 234.55it/s]\n"
     ]
    },
    {
     "name": "stdout",
     "output_type": "stream",
     "text": [
      "Generate Articles Embeddings...\n"
     ]
    },
    {
     "name": "stderr",
     "output_type": "stream",
     "text": [
      "100%|██████████| 1056/1056 [00:04<00:00, 249.30it/s]\n"
     ]
    },
    {
     "name": "stdout",
     "output_type": "stream",
     "text": [
      "Get recommendations...\n"
     ]
    },
    {
     "name": "stderr",
     "output_type": "stream",
     "text": [
      "100%|██████████| 137/137 [00:32<00:00,  4.26it/s]\n"
     ]
    },
    {
     "name": "stdout",
     "output_type": "stream",
     "text": [
      "Generate Customer Embeddings...\n"
     ]
    },
    {
     "name": "stderr",
     "output_type": "stream",
     "text": [
      "100%|██████████| 1363/1363 [00:06<00:00, 201.72it/s]\n"
     ]
    },
    {
     "name": "stdout",
     "output_type": "stream",
     "text": [
      "Generate Articles Embeddings...\n"
     ]
    },
    {
     "name": "stderr",
     "output_type": "stream",
     "text": [
      "100%|██████████| 1056/1056 [00:04<00:00, 239.05it/s]\n"
     ]
    },
    {
     "name": "stdout",
     "output_type": "stream",
     "text": [
      "Get recommendations...\n"
     ]
    },
    {
     "name": "stderr",
     "output_type": "stream",
     "text": [
      "100%|██████████| 137/137 [00:33<00:00,  4.11it/s]\n",
      " 33%|███▎      | 2/6 [09:42<19:23, 290.75s/it]"
     ]
    },
    {
     "name": "stdout",
     "output_type": "stream",
     "text": [
      "Generate Customer Embeddings...\n"
     ]
    },
    {
     "name": "stderr",
     "output_type": "stream",
     "text": [
      "100%|██████████| 1363/1363 [00:05<00:00, 231.00it/s]\n"
     ]
    },
    {
     "name": "stdout",
     "output_type": "stream",
     "text": [
      "Generate Articles Embeddings...\n"
     ]
    },
    {
     "name": "stderr",
     "output_type": "stream",
     "text": [
      "100%|██████████| 1056/1056 [00:04<00:00, 239.71it/s]\n"
     ]
    },
    {
     "name": "stdout",
     "output_type": "stream",
     "text": [
      "Get recommendations...\n"
     ]
    },
    {
     "name": "stderr",
     "output_type": "stream",
     "text": [
      "100%|██████████| 137/137 [00:31<00:00,  4.35it/s]\n"
     ]
    },
    {
     "name": "stdout",
     "output_type": "stream",
     "text": [
      "Generate Customer Embeddings...\n"
     ]
    },
    {
     "name": "stderr",
     "output_type": "stream",
     "text": [
      "100%|██████████| 1363/1363 [00:06<00:00, 200.41it/s]\n"
     ]
    },
    {
     "name": "stdout",
     "output_type": "stream",
     "text": [
      "Generate Articles Embeddings...\n"
     ]
    },
    {
     "name": "stderr",
     "output_type": "stream",
     "text": [
      "100%|██████████| 1056/1056 [00:04<00:00, 242.91it/s]\n"
     ]
    },
    {
     "name": "stdout",
     "output_type": "stream",
     "text": [
      "Get recommendations...\n"
     ]
    },
    {
     "name": "stderr",
     "output_type": "stream",
     "text": [
      "100%|██████████| 137/137 [00:32<00:00,  4.24it/s]\n",
      " 50%|█████     | 3/6 [14:46<14:50, 296.84s/it]"
     ]
    },
    {
     "name": "stdout",
     "output_type": "stream",
     "text": [
      "Generate Customer Embeddings...\n"
     ]
    },
    {
     "name": "stderr",
     "output_type": "stream",
     "text": [
      "100%|██████████| 1363/1363 [00:05<00:00, 229.97it/s]\n"
     ]
    },
    {
     "name": "stdout",
     "output_type": "stream",
     "text": [
      "Generate Articles Embeddings...\n"
     ]
    },
    {
     "name": "stderr",
     "output_type": "stream",
     "text": [
      "100%|██████████| 1056/1056 [00:04<00:00, 242.22it/s]\n"
     ]
    },
    {
     "name": "stdout",
     "output_type": "stream",
     "text": [
      "Get recommendations...\n"
     ]
    },
    {
     "name": "stderr",
     "output_type": "stream",
     "text": [
      "100%|██████████| 137/137 [00:31<00:00,  4.38it/s]\n"
     ]
    },
    {
     "name": "stdout",
     "output_type": "stream",
     "text": [
      "Generate Customer Embeddings...\n"
     ]
    },
    {
     "name": "stderr",
     "output_type": "stream",
     "text": [
      "100%|██████████| 1363/1363 [00:06<00:00, 205.51it/s]\n"
     ]
    },
    {
     "name": "stdout",
     "output_type": "stream",
     "text": [
      "Generate Articles Embeddings...\n"
     ]
    },
    {
     "name": "stderr",
     "output_type": "stream",
     "text": [
      "100%|██████████| 1056/1056 [00:04<00:00, 242.47it/s]\n"
     ]
    },
    {
     "name": "stdout",
     "output_type": "stream",
     "text": [
      "Get recommendations...\n"
     ]
    },
    {
     "name": "stderr",
     "output_type": "stream",
     "text": [
      "100%|██████████| 137/137 [00:33<00:00,  4.12it/s]\n",
      " 67%|██████▋   | 4/6 [19:42<09:53, 296.73s/it]"
     ]
    },
    {
     "name": "stdout",
     "output_type": "stream",
     "text": [
      "Generate Customer Embeddings...\n"
     ]
    },
    {
     "name": "stderr",
     "output_type": "stream",
     "text": [
      "100%|██████████| 1363/1363 [00:06<00:00, 220.07it/s]\n"
     ]
    },
    {
     "name": "stdout",
     "output_type": "stream",
     "text": [
      "Generate Articles Embeddings...\n"
     ]
    },
    {
     "name": "stderr",
     "output_type": "stream",
     "text": [
      "100%|██████████| 1056/1056 [00:04<00:00, 235.66it/s]\n"
     ]
    },
    {
     "name": "stdout",
     "output_type": "stream",
     "text": [
      "Get recommendations...\n"
     ]
    },
    {
     "name": "stderr",
     "output_type": "stream",
     "text": [
      "100%|██████████| 137/137 [00:33<00:00,  4.06it/s]\n"
     ]
    },
    {
     "name": "stdout",
     "output_type": "stream",
     "text": [
      "Generate Customer Embeddings...\n"
     ]
    },
    {
     "name": "stderr",
     "output_type": "stream",
     "text": [
      "100%|██████████| 1363/1363 [00:06<00:00, 205.02it/s]\n"
     ]
    },
    {
     "name": "stdout",
     "output_type": "stream",
     "text": [
      "Generate Articles Embeddings...\n"
     ]
    },
    {
     "name": "stderr",
     "output_type": "stream",
     "text": [
      "100%|██████████| 1056/1056 [00:04<00:00, 239.50it/s]\n"
     ]
    },
    {
     "name": "stdout",
     "output_type": "stream",
     "text": [
      "Get recommendations...\n"
     ]
    },
    {
     "name": "stderr",
     "output_type": "stream",
     "text": [
      "100%|██████████| 137/137 [00:33<00:00,  4.13it/s]\n",
      " 83%|████████▎ | 5/6 [24:46<04:59, 299.32s/it]"
     ]
    },
    {
     "name": "stdout",
     "output_type": "stream",
     "text": [
      "Generate Customer Embeddings...\n"
     ]
    },
    {
     "name": "stderr",
     "output_type": "stream",
     "text": [
      "100%|██████████| 1363/1363 [00:05<00:00, 235.16it/s]\n"
     ]
    },
    {
     "name": "stdout",
     "output_type": "stream",
     "text": [
      "Generate Articles Embeddings...\n"
     ]
    },
    {
     "name": "stderr",
     "output_type": "stream",
     "text": [
      "100%|██████████| 1056/1056 [00:04<00:00, 244.17it/s]\n"
     ]
    },
    {
     "name": "stdout",
     "output_type": "stream",
     "text": [
      "Get recommendations...\n"
     ]
    },
    {
     "name": "stderr",
     "output_type": "stream",
     "text": [
      "100%|██████████| 137/137 [00:31<00:00,  4.29it/s]\n"
     ]
    },
    {
     "name": "stdout",
     "output_type": "stream",
     "text": [
      "Generate Customer Embeddings...\n"
     ]
    },
    {
     "name": "stderr",
     "output_type": "stream",
     "text": [
      "100%|██████████| 1363/1363 [00:06<00:00, 207.20it/s]\n"
     ]
    },
    {
     "name": "stdout",
     "output_type": "stream",
     "text": [
      "Generate Articles Embeddings...\n"
     ]
    },
    {
     "name": "stderr",
     "output_type": "stream",
     "text": [
      "100%|██████████| 1056/1056 [00:04<00:00, 240.45it/s]\n"
     ]
    },
    {
     "name": "stdout",
     "output_type": "stream",
     "text": [
      "Get recommendations...\n"
     ]
    },
    {
     "name": "stderr",
     "output_type": "stream",
     "text": [
      "100%|██████████| 137/137 [00:33<00:00,  4.07it/s]\n",
      "100%|██████████| 6/6 [29:49<00:00, 298.24s/it]\n"
     ]
    }
   ],
   "source": [
    "TwoTowerBasic = torch.load(\"AI_project/RQ1/models/TwoTower1.pt\")\n",
    "TwoTowerDeep = torch.load(\"AI_project/RQ1/models/TwoTowerFinal.pt\")\n",
    "transactions_negatives = pd.read_csv(\"data/preprocessed/transactions_negatives.csv\")\n",
    "\n",
    "train_dataloader, val_dataloader, test_customers = load_data_mf(transactions_negatives, batch_size=1000)\n",
    "matrix_full = matrix_representation(transactions, train_test=False)\n",
    "targets = matrix_full[test_customers]\n",
    "targets[targets>1] = 1\n",
    "dataloader_cust, dataloader_art = load_customers_articles(customers, articles, test_customers=test_customers, batch_size=100)\n",
    "\n",
    "last_sold = transactions.groupby(\"article_id\")[\"t_dat\"].max()\n",
    "articles_recently_sold = [last_sold[last_sold > '2020-08-22'].index.tolist()]\n",
    "\n",
    "recall_Basic_list = []\n",
    "precision_Basic_list = []\n",
    "recall_Deep_list = []\n",
    "precision_Deep_list = []\n",
    "\n",
    "for k in tqdm(np.arange(5,35,5)):\n",
    "    _, recall_Basic, precision_Basic = recommender_two_towers(TwoTowerBasic, dataloader_cust, dataloader_art, targets, articles_recently_sold, evaluate=True, top_k=k)\n",
    "    _, recall_Deep, precision_Deep =  recommender_two_towers_final(TwoTowerDeep, dataloader_cust, dataloader_art, targets, articles_recently_sold, evaluate=True, top_k=k)\n",
    "    \n",
    "    recall_Basic_list.append(recall_Basic)\n",
    "    recall_Deep_list.append(recall_Deep)\n",
    "    precision_Basic_list.append(precision_Basic)\n",
    "    precision_Deep_list.append(precision_Deep)"
   ]
  },
  {
   "cell_type": "code",
   "execution_count": 5,
   "metadata": {},
   "outputs": [],
   "source": [
    "with open('AI_project/RQ1/evaluation/recall/recall_Basic.pkl', 'wb') as f:\n",
    "    pickle.dump(recall_Basic_list, f)\n",
    "\n",
    "with open('AI_project/RQ1/evaluation/recall/recall_Deep.pkl', 'wb') as f:\n",
    "    pickle.dump(recall_Deep_list, f)\n",
    "\n",
    "with open('AI_project/RQ1/evaluation/precision/precision_Basic.pkl', 'wb') as f:\n",
    "    pickle.dump(precision_Basic_list, f)\n",
    "\n",
    "with open('AI_project/RQ1/evaluation/precision/precision_Deep.pkl', 'wb') as f:\n",
    "    pickle.dump(precision_Deep_list, f)"
   ]
  },
  {
   "cell_type": "code",
   "execution_count": 3,
   "metadata": {},
   "outputs": [],
   "source": [
    "# read article and customer data\n",
    "articles = pd.read_csv(\"data/preprocessed/articles.csv\") \n",
    "customers = pd.read_csv(\"data/preprocessed/customers.csv\") \n",
    "\n",
    "# set indices\n",
    "articles = articles.set_index(\"article_id\")\n",
    "customers = customers.set_index(\"customer_id\")\n",
    "\n",
    "customers_categorical = [\"FN\",'Active',\"club_member_status\", \"fashion_news_frequency\"]\n",
    "customers_cont = [\"age\"]\n",
    "\n",
    "preprocessor = ColumnTransformer(\n",
    "    transformers=[\n",
    "        ('cat', OneHotEncoder(sparse_output=True), customers_categorical),\n",
    "        ('cont', 'passthrough', customers_cont)  # 'passthrough' means no transformation for continuous variables\n",
    "    ],\n",
    "    remainder='drop'  # Drop any columns not explicitly transformed\n",
    ")\n",
    "customers = csr_matrix(preprocessor.fit_transform(customers))\n",
    "articles = csr_matrix(articles)\n",
    "\n",
    "# load transaction\n",
    "transactions_negatives = pd.read_csv(\"data/preprocessed/transactions_negatives.csv\")\n",
    "# dataloader\n",
    "train_dataloader, val_dataloader, test_customers = load_data_mf(transactions_negatives, batch_size=1000)"
   ]
  },
  {
   "cell_type": "code",
   "execution_count": 4,
   "metadata": {},
   "outputs": [
    {
     "name": "stderr",
     "output_type": "stream",
     "text": [
      "  0%|          | 0/6 [00:00<?, ?it/s]"
     ]
    },
    {
     "name": "stdout",
     "output_type": "stream",
     "text": [
      "Generate Customer Embeddings...\n"
     ]
    },
    {
     "name": "stderr",
     "output_type": "stream",
     "text": [
      "100%|██████████| 1363/1363 [00:05<00:00, 252.61it/s]\n"
     ]
    },
    {
     "name": "stdout",
     "output_type": "stream",
     "text": [
      "Generate Articles Embeddings...\n"
     ]
    },
    {
     "name": "stderr",
     "output_type": "stream",
     "text": [
      "/Users/karol/Desktop/Antwerp/ai_project/AI_project/RQ1/model.py:81: UserWarning: The use of `x.T` on tensors of dimension other than 2 to reverse their shape is deprecated and it will throw an error in a future release. Consider `x.mT` to transpose batches of matrices or `x.permute(*torch.arange(x.ndim - 1, -1, -1))` to reverse the dimensions of a tensor. (Triggered internally at /Users/runner/work/pytorch/pytorch/pytorch/aten/src/ATen/native/TensorShape.cpp:3618.)\n",
      "  embedding_layer(x[:,i].T)\n",
      "100%|██████████| 1056/1056 [00:04<00:00, 245.97it/s]\n"
     ]
    },
    {
     "name": "stdout",
     "output_type": "stream",
     "text": [
      "Get recommendations...\n"
     ]
    },
    {
     "name": "stderr",
     "output_type": "stream",
     "text": [
      "100%|██████████| 137/137 [00:38<00:00,  3.52it/s]\n",
      " 17%|█▋        | 1/6 [02:26<12:12, 146.55s/it]"
     ]
    },
    {
     "name": "stdout",
     "output_type": "stream",
     "text": [
      "Generate Customer Embeddings...\n"
     ]
    },
    {
     "name": "stderr",
     "output_type": "stream",
     "text": [
      "100%|██████████| 1363/1363 [00:05<00:00, 269.85it/s]\n"
     ]
    },
    {
     "name": "stdout",
     "output_type": "stream",
     "text": [
      "Generate Articles Embeddings...\n"
     ]
    },
    {
     "name": "stderr",
     "output_type": "stream",
     "text": [
      "100%|██████████| 1056/1056 [00:04<00:00, 256.32it/s]\n"
     ]
    },
    {
     "name": "stdout",
     "output_type": "stream",
     "text": [
      "Get recommendations...\n"
     ]
    },
    {
     "name": "stderr",
     "output_type": "stream",
     "text": [
      "100%|██████████| 137/137 [00:38<00:00,  3.58it/s]\n",
      " 33%|███▎      | 2/6 [04:52<09:43, 145.95s/it]"
     ]
    },
    {
     "name": "stdout",
     "output_type": "stream",
     "text": [
      "Generate Customer Embeddings...\n"
     ]
    },
    {
     "name": "stderr",
     "output_type": "stream",
     "text": [
      "100%|██████████| 1363/1363 [00:05<00:00, 270.50it/s]\n"
     ]
    },
    {
     "name": "stdout",
     "output_type": "stream",
     "text": [
      "Generate Articles Embeddings...\n"
     ]
    },
    {
     "name": "stderr",
     "output_type": "stream",
     "text": [
      "100%|██████████| 1056/1056 [00:03<00:00, 272.27it/s]\n"
     ]
    },
    {
     "name": "stdout",
     "output_type": "stream",
     "text": [
      "Get recommendations...\n"
     ]
    },
    {
     "name": "stderr",
     "output_type": "stream",
     "text": [
      "100%|██████████| 137/137 [00:36<00:00,  3.73it/s]\n",
      " 50%|█████     | 3/6 [07:20<07:21, 147.17s/it]"
     ]
    },
    {
     "name": "stdout",
     "output_type": "stream",
     "text": [
      "Generate Customer Embeddings...\n"
     ]
    },
    {
     "name": "stderr",
     "output_type": "stream",
     "text": [
      "100%|██████████| 1363/1363 [00:04<00:00, 282.55it/s]\n"
     ]
    },
    {
     "name": "stdout",
     "output_type": "stream",
     "text": [
      "Generate Articles Embeddings...\n"
     ]
    },
    {
     "name": "stderr",
     "output_type": "stream",
     "text": [
      "100%|██████████| 1056/1056 [00:04<00:00, 255.59it/s]\n"
     ]
    },
    {
     "name": "stdout",
     "output_type": "stream",
     "text": [
      "Get recommendations...\n"
     ]
    },
    {
     "name": "stderr",
     "output_type": "stream",
     "text": [
      "100%|██████████| 137/137 [00:36<00:00,  3.76it/s]\n",
      " 67%|██████▋   | 4/6 [09:54<04:59, 149.62s/it]"
     ]
    },
    {
     "name": "stdout",
     "output_type": "stream",
     "text": [
      "Generate Customer Embeddings...\n"
     ]
    },
    {
     "name": "stderr",
     "output_type": "stream",
     "text": [
      "100%|██████████| 1363/1363 [00:04<00:00, 285.82it/s]\n"
     ]
    },
    {
     "name": "stdout",
     "output_type": "stream",
     "text": [
      "Generate Articles Embeddings...\n"
     ]
    },
    {
     "name": "stderr",
     "output_type": "stream",
     "text": [
      "100%|██████████| 1056/1056 [00:03<00:00, 272.73it/s]\n"
     ]
    },
    {
     "name": "stdout",
     "output_type": "stream",
     "text": [
      "Get recommendations...\n"
     ]
    },
    {
     "name": "stderr",
     "output_type": "stream",
     "text": [
      "100%|██████████| 137/137 [00:36<00:00,  3.75it/s]\n",
      " 83%|████████▎ | 5/6 [12:28<02:31, 151.40s/it]"
     ]
    },
    {
     "name": "stdout",
     "output_type": "stream",
     "text": [
      "Generate Customer Embeddings...\n"
     ]
    },
    {
     "name": "stderr",
     "output_type": "stream",
     "text": [
      "100%|██████████| 1363/1363 [00:05<00:00, 270.00it/s]\n"
     ]
    },
    {
     "name": "stdout",
     "output_type": "stream",
     "text": [
      "Generate Articles Embeddings...\n"
     ]
    },
    {
     "name": "stderr",
     "output_type": "stream",
     "text": [
      "100%|██████████| 1056/1056 [00:03<00:00, 275.90it/s]\n"
     ]
    },
    {
     "name": "stdout",
     "output_type": "stream",
     "text": [
      "Get recommendations...\n"
     ]
    },
    {
     "name": "stderr",
     "output_type": "stream",
     "text": [
      "100%|██████████| 137/137 [00:38<00:00,  3.60it/s]\n",
      "100%|██████████| 6/6 [15:08<00:00, 151.41s/it]\n"
     ]
    }
   ],
   "source": [
    "TwoTowerEmbeddings = torch.load(\"AI_project/RQ1/models/TwoTowerEmbedded.pt\")\n",
    "\n",
    "matrix_full = matrix_representation(transactions, train_test=False)\n",
    "targets = matrix_full[test_customers]\n",
    "targets[targets>1] = 1\n",
    "dataloader_cust, dataloader_art = load_customers_articles(customers, articles, test_customers=test_customers, batch_size=100)\n",
    "\n",
    "last_sold = transactions.groupby(\"article_id\")[\"t_dat\"].max()\n",
    "articles_recently_sold = [last_sold[last_sold > '2020-08-22'].index.tolist()]\n",
    "\n",
    "recall_Embeddings_list = []\n",
    "precision_Embeddings_list = []\n",
    "\n",
    "\n",
    "for k in tqdm(np.arange(5,35,5)):\n",
    "    _, recall_Embeddings, precision_Embeddings =  recommender_two_towers_embedded(TwoTowerEmbeddings, dataloader_cust, dataloader_art, targets, articles_recently_sold, evaluate=True, top_k=k)\n",
    "    recall_Embeddings_list.append(recall_Embeddings)\n",
    "    precision_Embeddings_list.append(precision_Embeddings)"
   ]
  },
  {
   "cell_type": "code",
   "execution_count": 5,
   "metadata": {},
   "outputs": [],
   "source": [
    "with open('AI_project/RQ1/evaluation/recall/recall_Embeddings.pkl', 'wb') as f:\n",
    "    pickle.dump(recall_Embeddings_list, f)\n",
    "\n",
    "with open('AI_project/RQ1/evaluation/precision/precision_Embeddings.pkl', 'wb') as f:\n",
    "    pickle.dump(precision_Embeddings_list, f)"
   ]
  },
  {
   "cell_type": "markdown",
   "metadata": {},
   "source": [
    "# Customer and Articles diversification"
   ]
  },
  {
   "cell_type": "code",
   "execution_count": 8,
   "metadata": {},
   "outputs": [],
   "source": [
    "# read customers and transactions data\n",
    "customers = pd.read_csv(\"data/preprocessed/customers.csv\") \n",
    "transactions = pd.read_csv(\"data/preprocessed/transactions.csv\")\n",
    "articles = pd.read_csv(\"data/preprocessed/articles.csv\") \n",
    "customers = customers_diversification(customers, transactions, articles)\n"
   ]
  },
  {
   "cell_type": "code",
   "execution_count": 10,
   "metadata": {},
   "outputs": [],
   "source": [
    "# one hot encoding \n",
    "articles = articles.set_index(\"article_id\")\n",
    "customers = customers.set_index(\"customer_id\")\n",
    "\n",
    "article_enc = OneHotEncoder(sparse_output=True)\n",
    "articles = article_enc.fit_transform(articles)\n",
    "\n",
    "customers_categorical = [\"FN\",'Active',\"club_member_status\", \"fashion_news_frequency\", \"favourite_color\", \"preferred_garment\"]\n",
    "customers_cont = [\"age\",\"first_channel\", \"second_channel\", \"avg_price\", \"amount_purchases\",\"manswear\",\"ladieswear\", \"kids\"]\n",
    "\n",
    "preprocessor = ColumnTransformer(\n",
    "    transformers=[\n",
    "        ('cat', OneHotEncoder(sparse_output=True), customers_categorical),\n",
    "        ('cont', 'passthrough', customers_cont)  # 'passthrough' means no transformation for continuous variables\n",
    "    ],\n",
    "    remainder='drop'  # Drop any columns not explicitly transformed\n",
    ")\n",
    "customers = csr_matrix(preprocessor.fit_transform(customers))\n",
    "# load transaction\n",
    "transactions_negatives = pd.read_csv(\"data/preprocessed/transactions_negatives.csv\")\n",
    "# dataloader\n",
    "train_dataloader, val_dataloader, test_customers = load_data_mf(transactions_negatives, batch_size=1000)"
   ]
  },
  {
   "cell_type": "code",
   "execution_count": 11,
   "metadata": {},
   "outputs": [
    {
     "name": "stdout",
     "output_type": "stream",
     "text": [
      "Generate Customer Embeddings...\n"
     ]
    },
    {
     "name": "stderr",
     "output_type": "stream",
     "text": [
      "100%|██████████| 1363/1363 [00:10<00:00, 125.98it/s]\n"
     ]
    },
    {
     "name": "stdout",
     "output_type": "stream",
     "text": [
      "Generate Articles Embeddings...\n"
     ]
    },
    {
     "name": "stderr",
     "output_type": "stream",
     "text": [
      "100%|██████████| 1056/1056 [00:05<00:00, 195.27it/s]\n"
     ]
    },
    {
     "name": "stdout",
     "output_type": "stream",
     "text": [
      "Get recommendations...\n"
     ]
    },
    {
     "name": "stderr",
     "output_type": "stream",
     "text": [
      "100%|██████████| 137/137 [00:39<00:00,  3.47it/s]\n"
     ]
    },
    {
     "name": "stdout",
     "output_type": "stream",
     "text": [
      "Generate Customer Embeddings...\n"
     ]
    },
    {
     "name": "stderr",
     "output_type": "stream",
     "text": [
      "100%|██████████| 1363/1363 [00:06<00:00, 200.70it/s]\n"
     ]
    },
    {
     "name": "stdout",
     "output_type": "stream",
     "text": [
      "Generate Articles Embeddings...\n"
     ]
    },
    {
     "name": "stderr",
     "output_type": "stream",
     "text": [
      "100%|██████████| 1056/1056 [00:05<00:00, 202.55it/s]\n"
     ]
    },
    {
     "name": "stdout",
     "output_type": "stream",
     "text": [
      "Get recommendations...\n"
     ]
    },
    {
     "name": "stderr",
     "output_type": "stream",
     "text": [
      "100%|██████████| 137/137 [00:36<00:00,  3.72it/s]\n"
     ]
    },
    {
     "name": "stdout",
     "output_type": "stream",
     "text": [
      "Generate Customer Embeddings...\n"
     ]
    },
    {
     "name": "stderr",
     "output_type": "stream",
     "text": [
      "100%|██████████| 1363/1363 [00:06<00:00, 203.95it/s]\n"
     ]
    },
    {
     "name": "stdout",
     "output_type": "stream",
     "text": [
      "Generate Articles Embeddings...\n"
     ]
    },
    {
     "name": "stderr",
     "output_type": "stream",
     "text": [
      "100%|██████████| 1056/1056 [00:04<00:00, 222.39it/s]\n"
     ]
    },
    {
     "name": "stdout",
     "output_type": "stream",
     "text": [
      "Get recommendations...\n"
     ]
    },
    {
     "name": "stderr",
     "output_type": "stream",
     "text": [
      "100%|██████████| 137/137 [00:35<00:00,  3.87it/s]\n"
     ]
    },
    {
     "name": "stdout",
     "output_type": "stream",
     "text": [
      "Generate Customer Embeddings...\n"
     ]
    },
    {
     "name": "stderr",
     "output_type": "stream",
     "text": [
      "100%|██████████| 1363/1363 [00:07<00:00, 183.70it/s]\n"
     ]
    },
    {
     "name": "stdout",
     "output_type": "stream",
     "text": [
      "Generate Articles Embeddings...\n"
     ]
    },
    {
     "name": "stderr",
     "output_type": "stream",
     "text": [
      "100%|██████████| 1056/1056 [00:04<00:00, 213.01it/s]\n"
     ]
    },
    {
     "name": "stdout",
     "output_type": "stream",
     "text": [
      "Get recommendations...\n"
     ]
    },
    {
     "name": "stderr",
     "output_type": "stream",
     "text": [
      "100%|██████████| 137/137 [00:37<00:00,  3.67it/s]\n"
     ]
    },
    {
     "name": "stdout",
     "output_type": "stream",
     "text": [
      "Generate Customer Embeddings...\n"
     ]
    },
    {
     "name": "stderr",
     "output_type": "stream",
     "text": [
      "100%|██████████| 1363/1363 [00:06<00:00, 211.16it/s]\n"
     ]
    },
    {
     "name": "stdout",
     "output_type": "stream",
     "text": [
      "Generate Articles Embeddings...\n"
     ]
    },
    {
     "name": "stderr",
     "output_type": "stream",
     "text": [
      "100%|██████████| 1056/1056 [00:04<00:00, 242.48it/s]\n"
     ]
    },
    {
     "name": "stdout",
     "output_type": "stream",
     "text": [
      "Get recommendations...\n"
     ]
    },
    {
     "name": "stderr",
     "output_type": "stream",
     "text": [
      "100%|██████████| 137/137 [00:32<00:00,  4.24it/s]\n"
     ]
    },
    {
     "name": "stdout",
     "output_type": "stream",
     "text": [
      "Generate Customer Embeddings...\n"
     ]
    },
    {
     "name": "stderr",
     "output_type": "stream",
     "text": [
      "100%|██████████| 1363/1363 [00:06<00:00, 210.04it/s]\n"
     ]
    },
    {
     "name": "stdout",
     "output_type": "stream",
     "text": [
      "Generate Articles Embeddings...\n"
     ]
    },
    {
     "name": "stderr",
     "output_type": "stream",
     "text": [
      "100%|██████████| 1056/1056 [00:04<00:00, 244.22it/s]\n"
     ]
    },
    {
     "name": "stdout",
     "output_type": "stream",
     "text": [
      "Get recommendations...\n"
     ]
    },
    {
     "name": "stderr",
     "output_type": "stream",
     "text": [
      "100%|██████████| 137/137 [00:32<00:00,  4.19it/s]\n"
     ]
    }
   ],
   "source": [
    "TwoTowerCustomer = torch.load(\"AI_project/RQ1/models/TwoTowerCustomer.pt\")\n",
    "train_dataloader, val_dataloader, test_customers = load_data_mf(transactions_negatives, batch_size=1000)\n",
    "matrix_full = matrix_representation(transactions, train_test=False)\n",
    "targets = matrix_full[test_customers]\n",
    "targets[targets>1] = 1\n",
    "# dataloader\n",
    "dataloader_cust, dataloader_art = load_customers_articles(customers, articles, test_customers=test_customers, batch_size=100)\n",
    "# get restrictions\n",
    "last_sold = transactions.groupby(\"article_id\")[\"t_dat\"].max()\n",
    "articles_recently_sold = [last_sold[last_sold > '2020-08-22'].index.tolist()]\n",
    "\n",
    "recall_Cust_list = []\n",
    "precision_Cust_list = []\n",
    "\n",
    "for k in np.arange(5,35,5):\n",
    "    _, recall_customer, precision_customer = recommender_two_towers_customer(TwoTowerCustomer, dataloader_cust, dataloader_art, targets, articles_recently_sold, evaluate=True, top_k=k)\n",
    "    recall_Cust_list.append(recall_customer)\n",
    "    precision_Cust_list.append(precision_customer)\n"
   ]
  },
  {
   "cell_type": "code",
   "execution_count": 12,
   "metadata": {},
   "outputs": [],
   "source": [
    "with open('AI_project/RQ1/evaluation/recall/recall_Cust.pkl', 'wb') as f:\n",
    "    pickle.dump(recall_Cust_list, f)\n",
    "\n",
    "with open('AI_project/RQ1/evaluation/precision/precision_Cust.pkl', 'wb') as f:\n",
    "    pickle.dump(precision_Cust_list, f)"
   ]
  },
  {
   "cell_type": "code",
   "execution_count": 6,
   "metadata": {},
   "outputs": [
    {
     "name": "stdout",
     "output_type": "stream",
     "text": [
      "AGE GROUP DISTRIBUTION\n",
      "\n",
      "age_group\n",
      "adult_preferences         492701\n",
      "young_preference          357169\n",
      "middle_aged_preference    339444\n",
      "senior_preference         182666\n",
      "Name: count, dtype: int64\n"
     ]
    },
    {
     "name": "stderr",
     "output_type": "stream",
     "text": [
      "/Users/karol/Desktop/Antwerp/ai_project/AI_project/RQ1/data_reader.py:609: FutureWarning: The default of observed=False is deprecated and will be changed to True in a future version of pandas. Pass observed=False to retain current behavior or observed=True to adopt the future default and silence this warning.\n",
      "  grouped = t.groupby([\"article_id\", \"age_group\"])[\"customer_id\"].count()\n"
     ]
    }
   ],
   "source": [
    "# read customers and transactions data\n",
    "customers = pd.read_csv(\"data/preprocessed/customers.csv\") \n",
    "transactions = pd.read_csv(\"data/preprocessed/transactions.csv\")\n",
    "articles = pd.read_csv(\"data/preprocessed/articles.csv\") \n",
    "articles = articles_diversification(articles, transactions, customers)"
   ]
  },
  {
   "cell_type": "code",
   "execution_count": 7,
   "metadata": {},
   "outputs": [],
   "source": [
    "# one hot encoding \n",
    "articles = articles.set_index(\"article_id\")\n",
    "customers = customers.set_index(\"customer_id\")\n",
    "\n",
    "articles_categorical = [\"product_type_name\",\"graphical_appearance_name\",\n",
    "                        \"perceived_colour_master_name\",\"department_name\",\n",
    "                        \"index_name\",\"section_name\",\"garment_group_name\"]\n",
    "\n",
    "articles_cont = ['winter_sale', 'spring_sale','summer_sale', 'autumn_sale',\n",
    "                'avg_price','young_preference', 'adult_preferences', \n",
    "                'middle_aged_preference','senior_preference', \n",
    "                'sales_channel_2', 'sales_channel_1']\n",
    "\n",
    "min_max_cols = ['rank_3_2020', 'rank_4_2020']\n",
    "\n",
    "\n",
    "preprocessor = ColumnTransformer(\n",
    "    transformers=[\n",
    "        ('cat', OneHotEncoder(sparse_output=True), articles_categorical),\n",
    "        ('cont', 'passthrough', articles_cont),\n",
    "        (\"min_max\", MinMaxScaler(), min_max_cols)  # 'passthrough' means no transformation for continuous variables\n",
    "    ],\n",
    "    remainder='drop'  # Drop any columns not explicitly transformed\n",
    ")\n",
    "\n",
    "articles = csr_matrix(preprocessor.fit_transform(articles))\n",
    "\n",
    "customers_categorical = [\"FN\",'Active',\"club_member_status\", \"fashion_news_frequency\"]\n",
    "customers_cont = [\"age\"]\n",
    "\n",
    "preprocessor = ColumnTransformer(\n",
    "    transformers=[\n",
    "        ('cat', OneHotEncoder(sparse_output=True), customers_categorical),\n",
    "        ('cont', 'passthrough', customers_cont)  # 'passthrough' means no transformation for continuous variables\n",
    "    ],\n",
    "    remainder='drop'  # Drop any columns not explicitly transformed\n",
    ")\n",
    "customers = csr_matrix(preprocessor.fit_transform(customers))\n",
    "# load transaction\n",
    "transactions_negatives = pd.read_csv(\"data/preprocessed/transactions_negatives.csv\")\n",
    "# dataloader\n",
    "train_dataloader, val_dataloader, test_customers = load_data_mf(transactions_negatives, batch_size=1000)"
   ]
  },
  {
   "cell_type": "code",
   "execution_count": 9,
   "metadata": {},
   "outputs": [
    {
     "name": "stdout",
     "output_type": "stream",
     "text": [
      "Generate Customer Embeddings...\n"
     ]
    },
    {
     "name": "stderr",
     "output_type": "stream",
     "text": [
      "100%|██████████| 1363/1363 [00:10<00:00, 136.22it/s]\n"
     ]
    },
    {
     "name": "stdout",
     "output_type": "stream",
     "text": [
      "Generate Articles Embeddings...\n"
     ]
    },
    {
     "name": "stderr",
     "output_type": "stream",
     "text": [
      "100%|██████████| 1056/1056 [00:05<00:00, 204.53it/s]\n"
     ]
    },
    {
     "name": "stdout",
     "output_type": "stream",
     "text": [
      "Get recommendations...\n"
     ]
    },
    {
     "name": "stderr",
     "output_type": "stream",
     "text": [
      "100%|██████████| 137/137 [00:35<00:00,  3.88it/s]\n"
     ]
    },
    {
     "name": "stdout",
     "output_type": "stream",
     "text": [
      "Generate Customer Embeddings...\n"
     ]
    },
    {
     "name": "stderr",
     "output_type": "stream",
     "text": [
      "100%|██████████| 1363/1363 [00:06<00:00, 206.82it/s]\n"
     ]
    },
    {
     "name": "stdout",
     "output_type": "stream",
     "text": [
      "Generate Articles Embeddings...\n"
     ]
    },
    {
     "name": "stderr",
     "output_type": "stream",
     "text": [
      "100%|██████████| 1056/1056 [00:04<00:00, 238.04it/s]\n"
     ]
    },
    {
     "name": "stdout",
     "output_type": "stream",
     "text": [
      "Get recommendations...\n"
     ]
    },
    {
     "name": "stderr",
     "output_type": "stream",
     "text": [
      "100%|██████████| 137/137 [00:33<00:00,  4.04it/s]\n"
     ]
    },
    {
     "name": "stdout",
     "output_type": "stream",
     "text": [
      "Generate Customer Embeddings...\n"
     ]
    },
    {
     "name": "stderr",
     "output_type": "stream",
     "text": [
      "100%|██████████| 1363/1363 [00:08<00:00, 168.85it/s]\n"
     ]
    },
    {
     "name": "stdout",
     "output_type": "stream",
     "text": [
      "Generate Articles Embeddings...\n"
     ]
    },
    {
     "name": "stderr",
     "output_type": "stream",
     "text": [
      "100%|██████████| 1056/1056 [00:05<00:00, 194.55it/s]\n"
     ]
    },
    {
     "name": "stdout",
     "output_type": "stream",
     "text": [
      "Get recommendations...\n"
     ]
    },
    {
     "name": "stderr",
     "output_type": "stream",
     "text": [
      "100%|██████████| 137/137 [00:37<00:00,  3.63it/s]\n"
     ]
    },
    {
     "name": "stdout",
     "output_type": "stream",
     "text": [
      "Generate Customer Embeddings...\n"
     ]
    },
    {
     "name": "stderr",
     "output_type": "stream",
     "text": [
      "100%|██████████| 1363/1363 [00:09<00:00, 139.39it/s]\n"
     ]
    },
    {
     "name": "stdout",
     "output_type": "stream",
     "text": [
      "Generate Articles Embeddings...\n"
     ]
    },
    {
     "name": "stderr",
     "output_type": "stream",
     "text": [
      "100%|██████████| 1056/1056 [00:04<00:00, 234.17it/s]\n"
     ]
    },
    {
     "name": "stdout",
     "output_type": "stream",
     "text": [
      "Get recommendations...\n"
     ]
    },
    {
     "name": "stderr",
     "output_type": "stream",
     "text": [
      "100%|██████████| 137/137 [00:34<00:00,  3.97it/s]\n"
     ]
    },
    {
     "name": "stdout",
     "output_type": "stream",
     "text": [
      "Generate Customer Embeddings...\n"
     ]
    },
    {
     "name": "stderr",
     "output_type": "stream",
     "text": [
      "100%|██████████| 1363/1363 [00:06<00:00, 211.59it/s]\n"
     ]
    },
    {
     "name": "stdout",
     "output_type": "stream",
     "text": [
      "Generate Articles Embeddings...\n"
     ]
    },
    {
     "name": "stderr",
     "output_type": "stream",
     "text": [
      "100%|██████████| 1056/1056 [00:04<00:00, 243.10it/s]\n"
     ]
    },
    {
     "name": "stdout",
     "output_type": "stream",
     "text": [
      "Get recommendations...\n"
     ]
    },
    {
     "name": "stderr",
     "output_type": "stream",
     "text": [
      "100%|██████████| 137/137 [00:33<00:00,  4.07it/s]\n"
     ]
    },
    {
     "name": "stdout",
     "output_type": "stream",
     "text": [
      "Generate Customer Embeddings...\n"
     ]
    },
    {
     "name": "stderr",
     "output_type": "stream",
     "text": [
      "100%|██████████| 1363/1363 [00:06<00:00, 211.36it/s]\n"
     ]
    },
    {
     "name": "stdout",
     "output_type": "stream",
     "text": [
      "Generate Articles Embeddings...\n"
     ]
    },
    {
     "name": "stderr",
     "output_type": "stream",
     "text": [
      "100%|██████████| 1056/1056 [00:04<00:00, 243.41it/s]\n"
     ]
    },
    {
     "name": "stdout",
     "output_type": "stream",
     "text": [
      "Get recommendations...\n"
     ]
    },
    {
     "name": "stderr",
     "output_type": "stream",
     "text": [
      "100%|██████████| 137/137 [00:32<00:00,  4.20it/s]\n"
     ]
    }
   ],
   "source": [
    "TwoTower = torch.load(\"AI_project/RQ1/models/TwoTowerArticles.pt\")\n",
    "matrix_full = matrix_representation(transactions, train_test=False)\n",
    "targets = matrix_full[test_customers]\n",
    "targets[targets>1] = 1\n",
    "# dataloader\n",
    "dataloader_cust, dataloader_art = load_customers_articles(customers, articles, test_customers=test_customers, batch_size=100)\n",
    "# get restrictions\n",
    "last_sold = transactions.groupby(\"article_id\")[\"t_dat\"].max()\n",
    "articles_recently_sold = [last_sold[last_sold > '2020-08-22'].index.tolist()]\n",
    "\n",
    "recall_Art_list = []\n",
    "precision_Art_list = []\n",
    "\n",
    "for k in np.arange(5,35,5):\n",
    "    _, recall_art, precision_art = recommender_two_towers_final(TwoTower, dataloader_cust, dataloader_art, targets, articles_recently_sold, evaluate=True, top_k=k)\n",
    "    recall_Art_list.append(recall_art)\n",
    "    precision_Art_list.append(precision_art)\n"
   ]
  },
  {
   "cell_type": "code",
   "execution_count": 10,
   "metadata": {},
   "outputs": [],
   "source": [
    "with open('AI_project/RQ1/evaluation/recall/recall_Art.pkl', 'wb') as f:\n",
    "    pickle.dump(recall_Art_list, f)\n",
    "\n",
    "with open('AI_project/RQ1/evaluation/precision/precision_Art.pkl', 'wb') as f:\n",
    "    pickle.dump(precision_Art_list, f)"
   ]
  },
  {
   "cell_type": "markdown",
   "metadata": {},
   "source": [
    "# Plots"
   ]
  },
  {
   "cell_type": "code",
   "execution_count": 32,
   "metadata": {},
   "outputs": [
    {
     "data": {
      "image/png": "[encoded data removed]",
      "text/plain": [
       "<Figure size 640x480 with 1 Axes>"
      ]
     },
     "metadata": {},
     "output_type": "display_data"
    }
   ],
   "source": [
    "# Directory containing the pickle files\n",
    "folder_path = 'AI_project/RQ1/evaluation/recall'\n",
    "\n",
    "# Initialize an empty list to store loaded lists\n",
    "all_lists = []\n",
    "\n",
    "# Iterate through the files in the folder\n",
    "for filename in os.listdir(folder_path):\n",
    "    file_path = os.path.join(folder_path, filename)\n",
    "    pattern = r'.*target.*'\n",
    "    if not re.search(pattern, filename):\n",
    "        # Load the list from the pickle file and append it to all_lists\n",
    "        with open(file_path, 'rb') as f:\n",
    "            loaded_list = pickle.load(f)\n",
    "            all_lists.append(loaded_list)\n",
    "            plt.plot(np.arange(5,35,5),loaded_list, label=filename)\n",
    "plt.title(\"Recall\")\n",
    "plt.legend()\n",
    "plt.xlabel(\"k\")\n",
    "plt.ylabel(\"recall\")\n",
    "plt.show()"
   ]
  },
  {
   "cell_type": "code",
   "execution_count": 31,
   "metadata": {},
   "outputs": [
    {
     "data": {
      "image/png": "[encoded data removed]",
      "text/plain": [
       "<Figure size 640x480 with 1 Axes>"
      ]
     },
     "metadata": {},
     "output_type": "display_data"
    }
   ],
   "source": [
    "# Directory containing the pickle files\n",
    "folder_path = 'AI_project/RQ1/evaluation/precision'\n",
    "\n",
    "# Initialize an empty list to store loaded lists\n",
    "all_lists = []\n",
    "\n",
    "# Iterate through the files in the folder\n",
    "for filename in os.listdir(folder_path):\n",
    "    file_path = os.path.join(folder_path, filename)\n",
    "    pattern = r'.*target.*'\n",
    "    if not re.search(pattern, filename):\n",
    "        # Load the list from the pickle file and append it to all_lists\n",
    "        with open(file_path, 'rb') as f:\n",
    "            loaded_list = pickle.load(f)\n",
    "            all_lists.append(loaded_list)\n",
    "            plt.plot(np.arange(5,35,5),loaded_list, label=filename)\n",
    "plt.title(\"Precision\")\n",
    "plt.legend()\n",
    "plt.xlabel(\"k\")\n",
    "plt.ylabel(\"Precision\")\n",
    "plt.show()"
   ]
  },
  {
   "cell_type": "markdown",
   "metadata": {},
   "source": [
    "# Final Models Evaluation - target: last basket"
   ]
  },
  {
   "cell_type": "code",
   "execution_count": 33,
   "metadata": {},
   "outputs": [],
   "source": [
    "with open('data/preprocessed/customers_encoding.pickle', 'rb') as file:\n",
    "    customer_dict = pickle.load(file)\n",
    "\n",
    "with open('data/preprocessed/articles_encoding.pickle', 'rb') as file:\n",
    "    article_dict = pickle.load(file)"
   ]
  },
  {
   "cell_type": "code",
   "execution_count": 142,
   "metadata": {},
   "outputs": [],
   "source": [
    "def get_evaluation_metrics(recommendations, target_lists):\n",
    "    all_precisions = []\n",
    "    all_recalls = []\n",
    "    # Calculate average precision at various lengths for all customers\n",
    "    for rec_list, target_list in zip(recommendations, target_lists):\n",
    "        precisions = []\n",
    "        recalls = []\n",
    "        for k in range(1, 13):\n",
    "            precision  = np.sum([match in rec_list[:k] for match in target_list[:k]])/k\n",
    "            recall  = np.sum([match in rec_list[:k] for match in target_list[:k]])/len(target_list)\n",
    "            precisions.append(precision)\n",
    "            recalls.append(recall)\n",
    "\n",
    "        all_precisions.append(precisions)\n",
    "        all_recalls.append(recalls)\n",
    "    # Calculate the average MAP across all customers and positions\n",
    "    average_map = sum(map(lambda x: sum(x) / len(x), all_precisions)) / len(all_precisions)\n",
    "    return average_map, np.apply_along_axis(np.mean, arr=np.array(all_precisions), axis=0), np.apply_along_axis(np.mean, arr=np.array(all_recalls), axis=0)"
   ]
  },
  {
   "cell_type": "code",
   "execution_count": 169,
   "metadata": {},
   "outputs": [
    {
     "name": "stderr",
     "output_type": "stream",
     "text": [
      "100%|██████████| 4/4 [05:46<00:00, 86.53s/it]\n"
     ]
    }
   ],
   "source": [
    "model_paths = [\"submission/TwoTower/TwoTowerFinal_submission.csv.gz\",\"submission/TwoTower/Final_submission.csv.gz\", \"submission/TwoTower/Final_submission_excluded.csv.gz\", \"submission/TwoTower/Final_submission_global.csv.gz\"]\n",
    "recalls = []\n",
    "precisions = []\n",
    "avg_maps = []\n",
    "for model in tqdm(model_paths):\n",
    "    # transform data\n",
    "    recommendations = pd.read_csv(model)\n",
    "    recommendations.customer_id = recommendations.customer_id.apply(lambda x: customer_dict[\"customer_id\"][x])\n",
    "    results = [[article_dict[\"article_id\"][int(word[1:])] for word in val.split(\" \")] for val in recommendations.prediction.values]\n",
    "    predictions = pd.DataFrame(results, index=recommendations.customer_id)\n",
    "\n",
    "    _, _, test_customers = load_data_mf(transactions_negatives, batch_size=1000)\n",
    "    inputs, targets = matrix_representation(transactions, train_test=True)\n",
    "    targets = targets[test_customers]\n",
    "    targets[targets>1] = 1\n",
    "\n",
    "    recommendations = predictions.sort_index().values[test_customers].tolist()\n",
    "\n",
    "    row_indices, col_indices = targets.nonzero()\n",
    "    dict_targets = {key: [] for key in np.unique(row_indices)}\n",
    "\n",
    "    for cust, art in zip(row_indices, col_indices):\n",
    "        dict_targets[cust].append(art)\n",
    "    targets_list = list(dict_targets.values())\n",
    "\n",
    "    # Get evaluation metrics\n",
    "    avg_map, prec, recall = get_evaluation_metrics(recommendations, targets_list)\n",
    "    recalls.append(recall)\n",
    "    precisions.append(prec)\n",
    "    avg_maps.append(avg_map)\n"
   ]
  },
  {
   "cell_type": "code",
   "execution_count": 183,
   "metadata": {},
   "outputs": [
    {
     "data": {
      "image/png": "[encoded data removed]",
      "text/plain": [
       "<Figure size 640x480 with 1 Axes>"
      ]
     },
     "metadata": {},
     "output_type": "display_data"
    }
   ],
   "source": [
    "bar_colors = ['#C8A2C8', 'skyblue', 'salmon', 'lightgreen']\n",
    "plt.bar([\"Base\",\"Personalized\",\"Personalised\\nReduced\", \"Global\"],avg_maps, color=bar_colors)\n",
    "plt.title(\"Average MAP Score\")\n",
    "plt.xlabel(\"Models\")\n",
    "plt.ylabel(\"Score\")\n",
    "plt.show()\n"
   ]
  },
  {
   "cell_type": "code",
   "execution_count": 176,
   "metadata": {},
   "outputs": [
    {
     "data": {
      "image/png": "[encoded data removed]",
      "text/plain": [
       "<Figure size 640x480 with 1 Axes>"
      ]
     },
     "metadata": {},
     "output_type": "display_data"
    }
   ],
   "source": [
    "# Plot Recall\n",
    "model_names = [\"Base\",\"Personalized\",\"Personalised Reduced\",\"Global\"]\n",
    "for indx, precision in enumerate(precisions):\n",
    "    plt.plot(np.arange(1,13), precision, label=model_names[indx])\n",
    "plt.legend()\n",
    "plt.title(\"Precision scores for k-recommendations\")\n",
    "plt.xlabel(\"k\")\n",
    "plt.ylabel(\"Precision\")\n",
    "plt.show()"
   ]
  },
  {
   "cell_type": "code",
   "execution_count": 178,
   "metadata": {},
   "outputs": [
    {
     "data": {
      "image/png": "[encoded data removed]",
      "text/plain": [
       "<Figure size 640x480 with 1 Axes>"
      ]
     },
     "metadata": {},
     "output_type": "display_data"
    }
   ],
   "source": [
    "# Plot Recall\n",
    "model_names = [\"Global\",\"Personalized\",\"Personalised Reduced\", \"Global\"]\n",
    "for indx, recall in enumerate(recalls):\n",
    "    plt.plot(np.arange(1,13), recall, label=model_names[indx])\n",
    "plt.legend()\n",
    "plt.title(\"Recall scores for k-recommendations\")\n",
    "plt.xlabel(\"k\")\n",
    "plt.ylabel(\"Recall\")\n",
    "plt.show()\n"
   ]
  },
  {
   "cell_type": "markdown",
   "metadata": {},
   "source": [
    "# Final Models Evaluation - target: whole basket"
   ]
  },
  {
   "cell_type": "code",
   "execution_count": 184,
   "metadata": {},
   "outputs": [
    {
     "name": "stderr",
     "output_type": "stream",
     "text": [
      "100%|██████████| 4/4 [08:12<00:00, 123.23s/it]\n"
     ]
    }
   ],
   "source": [
    "model_paths = [\"submission/TwoTower/TwoTowerFinal_submission.csv.gz\",\"submission/TwoTower/Final_submission.csv.gz\", \"submission/TwoTower/Final_submission_excluded.csv.gz\", \"submission/TwoTower/Final_submission_global.csv.gz\"]\n",
    "recalls = []\n",
    "precisions = []\n",
    "avg_maps = []\n",
    "for model in tqdm(model_paths):\n",
    "    # transform data\n",
    "    recommendations = pd.read_csv(model)\n",
    "    recommendations.customer_id = recommendations.customer_id.apply(lambda x: customer_dict[\"customer_id\"][x])\n",
    "    results = [[article_dict[\"article_id\"][int(word[1:])] for word in val.split(\" \")] for val in recommendations.prediction.values]\n",
    "    predictions = pd.DataFrame(results, index=recommendations.customer_id)\n",
    "\n",
    "    _, _, test_customers = load_data_mf(transactions_negatives, batch_size=1000)\n",
    "    matrix = matrix_representation(transactions, train_test=False)\n",
    "    targets = matrix[test_customers]\n",
    "    targets[targets>1] = 1\n",
    "\n",
    "    recommendations = predictions.sort_index().values[test_customers].tolist()\n",
    "\n",
    "    row_indices, col_indices = targets.nonzero()\n",
    "    dict_targets = {key: [] for key in np.unique(row_indices)}\n",
    "\n",
    "    for cust, art in zip(row_indices, col_indices):\n",
    "        dict_targets[cust].append(art)\n",
    "    targets_list = list(dict_targets.values())\n",
    "\n",
    "    # Get evaluation metrics\n",
    "    avg_map, prec, recall = get_evaluation_metrics(recommendations, targets_list)\n",
    "    recalls.append(recall)\n",
    "    precisions.append(prec)\n",
    "    avg_maps.append(avg_map)\n"
   ]
  },
  {
   "cell_type": "code",
   "execution_count": 185,
   "metadata": {},
   "outputs": [
    {
     "data": {
      "image/png": "[encoded data removed]",
      "text/plain": [
       "<Figure size 640x480 with 1 Axes>"
      ]
     },
     "metadata": {},
     "output_type": "display_data"
    }
   ],
   "source": [
    "bar_colors = ['#C8A2C8', 'skyblue', 'salmon', 'lightgreen']\n",
    "plt.bar([\"Base\",\"Personalized\",\"Personalised\\nReduced\", \"Global\"],avg_maps, color=bar_colors)\n",
    "plt.title(\"Average MAP Score\")\n",
    "plt.xlabel(\"Models\")\n",
    "plt.ylabel(\"Score\")\n",
    "plt.show()\n"
   ]
  },
  {
   "cell_type": "code",
   "execution_count": 186,
   "metadata": {},
   "outputs": [
    {
     "data": {
      "image/png": "[encoded data removed]",
      "text/plain": [
       "<Figure size 640x480 with 1 Axes>"
      ]
     },
     "metadata": {},
     "output_type": "display_data"
    }
   ],
   "source": [
    "# Plot Precision\n",
    "model_names = [\"Base\",\"Personalized\",\"Personalised Reduced\",\"Global\"]\n",
    "for indx, precision in enumerate(precisions):\n",
    "    plt.plot(np.arange(1,13), precision, label=model_names[indx])\n",
    "plt.legend()\n",
    "plt.title(\"Precision scores for k-recommendations\")\n",
    "plt.xlabel(\"k\")\n",
    "plt.ylabel(\"Precision\")\n",
    "plt.show()"
   ]
  },
  {
   "cell_type": "code",
   "execution_count": 187,
   "metadata": {},
   "outputs": [
    {
     "data": {
      "image/png": "[encoded data removed]",
      "text/plain": [
       "<Figure size 640x480 with 1 Axes>"
      ]
     },
     "metadata": {},
     "output_type": "display_data"
    }
   ],
   "source": [
    "# Plot Recall\n",
    "model_names = [\"Global\",\"Personalized\",\"Personalised Reduced\", \"Global\"]\n",
    "for indx, recall in enumerate(recalls):\n",
    "    plt.plot(np.arange(1,13), recall, label=model_names[indx])\n",
    "plt.legend()\n",
    "plt.title(\"Recall scores for k-recommendations\")\n",
    "plt.xlabel(\"k\")\n",
    "plt.ylabel(\"Recall\")\n",
    "plt.show()\n"
   ]
  },
  {
   "cell_type": "code",
   "execution_count": null,
   "metadata": {},
   "outputs": [],
   "source": []
  }
 ],
 "metadata": {
  "kernelspec": {
   "display_name": "ai_project",
   "language": "python",
   "name": "python3"
  },
  "language_info": {
   "codemirror_mode": {
    "name": "ipython",
    "version": 3
   },
   "file_extension": ".py",
   "mimetype": "text/x-python",
   "name": "python",
   "nbconvert_exporter": "python",
   "pygments_lexer": "ipython3",
   "version": "3.9.17"
  }
 },
 "nbformat": 4,
 "nbformat_minor": 2
}
